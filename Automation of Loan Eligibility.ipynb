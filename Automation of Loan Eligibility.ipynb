{
 "cells": [
  {
   "cell_type": "code",
   "execution_count": 1,
   "id": "399b58ca",
   "metadata": {},
   "outputs": [],
   "source": [
    "#import all the necessary modules"
   ]
  },
  {
   "cell_type": "code",
   "execution_count": 50,
   "id": "799b5d74",
   "metadata": {},
   "outputs": [],
   "source": [
    "import pandas as pd\n",
    "import numpy as np\n",
    "import matplotlib.pyplot as plt\n",
    "import seaborn as sb\n",
    "import warnings\n",
    "warnings.filterwarnings('ignore')"
   ]
  },
  {
   "cell_type": "code",
   "execution_count": 51,
   "id": "eaf15a32",
   "metadata": {},
   "outputs": [],
   "source": [
    "#read the dataset from remote machine "
   ]
  },
  {
   "cell_type": "code",
   "execution_count": 52,
   "id": "2949e67d",
   "metadata": {},
   "outputs": [],
   "source": [
    "trd = pd.read_csv(\"C:/Users/vipul ghare/Desktop/ETL Hive/Loan prediction Problem/training_set.csv\")\n",
    "tsd = pd.read_csv(\"C:/Users/vipul ghare/Desktop/ETL Hive/Loan prediction Problem/testing_set.csv\")"
   ]
  },
  {
   "cell_type": "code",
   "execution_count": 53,
   "id": "49f3033a",
   "metadata": {},
   "outputs": [],
   "source": [
    "#preview the dataset"
   ]
  },
  {
   "cell_type": "code",
   "execution_count": 54,
   "id": "2f7e45c9",
   "metadata": {},
   "outputs": [
    {
     "data": {
      "text/html": [
       "<div>\n",
       "<style scoped>\n",
       "    .dataframe tbody tr th:only-of-type {\n",
       "        vertical-align: middle;\n",
       "    }\n",
       "\n",
       "    .dataframe tbody tr th {\n",
       "        vertical-align: top;\n",
       "    }\n",
       "\n",
       "    .dataframe thead th {\n",
       "        text-align: right;\n",
       "    }\n",
       "</style>\n",
       "<table border=\"1\" class=\"dataframe\">\n",
       "  <thead>\n",
       "    <tr style=\"text-align: right;\">\n",
       "      <th></th>\n",
       "      <th>Loan_ID</th>\n",
       "      <th>Gender</th>\n",
       "      <th>Married</th>\n",
       "      <th>Dependents</th>\n",
       "      <th>Education</th>\n",
       "      <th>Self_Employed</th>\n",
       "      <th>ApplicantIncome</th>\n",
       "      <th>CoapplicantIncome</th>\n",
       "      <th>LoanAmount</th>\n",
       "      <th>Loan_Amount_Term</th>\n",
       "      <th>Credit_History</th>\n",
       "      <th>Property_Area</th>\n",
       "      <th>Loan_Status</th>\n",
       "    </tr>\n",
       "  </thead>\n",
       "  <tbody>\n",
       "    <tr>\n",
       "      <th>0</th>\n",
       "      <td>LP001002</td>\n",
       "      <td>Male</td>\n",
       "      <td>No</td>\n",
       "      <td>0</td>\n",
       "      <td>Graduate</td>\n",
       "      <td>No</td>\n",
       "      <td>5849.0</td>\n",
       "      <td>0.0</td>\n",
       "      <td>NaN</td>\n",
       "      <td>360.0</td>\n",
       "      <td>1.0</td>\n",
       "      <td>Urban</td>\n",
       "      <td>Y</td>\n",
       "    </tr>\n",
       "    <tr>\n",
       "      <th>1</th>\n",
       "      <td>LP001003</td>\n",
       "      <td>Male</td>\n",
       "      <td>Yes</td>\n",
       "      <td>1</td>\n",
       "      <td>Graduate</td>\n",
       "      <td>No</td>\n",
       "      <td>NaN</td>\n",
       "      <td>1508.0</td>\n",
       "      <td>128.0</td>\n",
       "      <td>360.0</td>\n",
       "      <td>1.0</td>\n",
       "      <td>Rural</td>\n",
       "      <td>N</td>\n",
       "    </tr>\n",
       "    <tr>\n",
       "      <th>2</th>\n",
       "      <td>LP001005</td>\n",
       "      <td>Male</td>\n",
       "      <td>Yes</td>\n",
       "      <td>0</td>\n",
       "      <td>Graduate</td>\n",
       "      <td>Yes</td>\n",
       "      <td>3000.0</td>\n",
       "      <td>0.0</td>\n",
       "      <td>66.0</td>\n",
       "      <td>360.0</td>\n",
       "      <td>1.0</td>\n",
       "      <td>Urban</td>\n",
       "      <td>Y</td>\n",
       "    </tr>\n",
       "    <tr>\n",
       "      <th>3</th>\n",
       "      <td>LP001006</td>\n",
       "      <td>Male</td>\n",
       "      <td>Yes</td>\n",
       "      <td>0</td>\n",
       "      <td>Not Graduate</td>\n",
       "      <td>No</td>\n",
       "      <td>2583.0</td>\n",
       "      <td>2358.0</td>\n",
       "      <td>120.0</td>\n",
       "      <td>360.0</td>\n",
       "      <td>1.0</td>\n",
       "      <td>Urban</td>\n",
       "      <td>Y</td>\n",
       "    </tr>\n",
       "    <tr>\n",
       "      <th>4</th>\n",
       "      <td>LP001008</td>\n",
       "      <td>Male</td>\n",
       "      <td>No</td>\n",
       "      <td>0</td>\n",
       "      <td>Graduate</td>\n",
       "      <td>No</td>\n",
       "      <td>6000.0</td>\n",
       "      <td>0.0</td>\n",
       "      <td>141.0</td>\n",
       "      <td>360.0</td>\n",
       "      <td>1.0</td>\n",
       "      <td>Urban</td>\n",
       "      <td>Y</td>\n",
       "    </tr>\n",
       "  </tbody>\n",
       "</table>\n",
       "</div>"
      ],
      "text/plain": [
       "    Loan_ID Gender Married Dependents     Education Self_Employed  \\\n",
       "0  LP001002   Male      No          0      Graduate            No   \n",
       "1  LP001003   Male     Yes          1      Graduate            No   \n",
       "2  LP001005   Male     Yes          0      Graduate           Yes   \n",
       "3  LP001006   Male     Yes          0  Not Graduate            No   \n",
       "4  LP001008   Male      No          0      Graduate            No   \n",
       "\n",
       "   ApplicantIncome  CoapplicantIncome  LoanAmount  Loan_Amount_Term  \\\n",
       "0           5849.0                0.0         NaN             360.0   \n",
       "1              NaN             1508.0       128.0             360.0   \n",
       "2           3000.0                0.0        66.0             360.0   \n",
       "3           2583.0             2358.0       120.0             360.0   \n",
       "4           6000.0                0.0       141.0             360.0   \n",
       "\n",
       "   Credit_History Property_Area Loan_Status  \n",
       "0             1.0         Urban           Y  \n",
       "1             1.0         Rural           N  \n",
       "2             1.0         Urban           Y  \n",
       "3             1.0         Urban           Y  \n",
       "4             1.0         Urban           Y  "
      ]
     },
     "execution_count": 54,
     "metadata": {},
     "output_type": "execute_result"
    }
   ],
   "source": [
    "trd.head()"
   ]
  },
  {
   "cell_type": "code",
   "execution_count": 55,
   "id": "a3526269",
   "metadata": {},
   "outputs": [
    {
     "data": {
      "text/html": [
       "<div>\n",
       "<style scoped>\n",
       "    .dataframe tbody tr th:only-of-type {\n",
       "        vertical-align: middle;\n",
       "    }\n",
       "\n",
       "    .dataframe tbody tr th {\n",
       "        vertical-align: top;\n",
       "    }\n",
       "\n",
       "    .dataframe thead th {\n",
       "        text-align: right;\n",
       "    }\n",
       "</style>\n",
       "<table border=\"1\" class=\"dataframe\">\n",
       "  <thead>\n",
       "    <tr style=\"text-align: right;\">\n",
       "      <th></th>\n",
       "      <th>Loan_ID</th>\n",
       "      <th>Gender</th>\n",
       "      <th>Married</th>\n",
       "      <th>Dependents</th>\n",
       "      <th>Education</th>\n",
       "      <th>Self_Employed</th>\n",
       "      <th>ApplicantIncome</th>\n",
       "      <th>CoapplicantIncome</th>\n",
       "      <th>LoanAmount</th>\n",
       "      <th>Loan_Amount_Term</th>\n",
       "      <th>Credit_History</th>\n",
       "      <th>Property_Area</th>\n",
       "    </tr>\n",
       "  </thead>\n",
       "  <tbody>\n",
       "    <tr>\n",
       "      <th>0</th>\n",
       "      <td>LP001015</td>\n",
       "      <td>Male</td>\n",
       "      <td>Yes</td>\n",
       "      <td>0</td>\n",
       "      <td>Graduate</td>\n",
       "      <td>No</td>\n",
       "      <td>5720</td>\n",
       "      <td>0</td>\n",
       "      <td>110.0</td>\n",
       "      <td>360.0</td>\n",
       "      <td>1.0</td>\n",
       "      <td>Urban</td>\n",
       "    </tr>\n",
       "    <tr>\n",
       "      <th>1</th>\n",
       "      <td>LP001022</td>\n",
       "      <td>Male</td>\n",
       "      <td>Yes</td>\n",
       "      <td>1</td>\n",
       "      <td>Graduate</td>\n",
       "      <td>No</td>\n",
       "      <td>3076</td>\n",
       "      <td>1500</td>\n",
       "      <td>126.0</td>\n",
       "      <td>360.0</td>\n",
       "      <td>1.0</td>\n",
       "      <td>Urban</td>\n",
       "    </tr>\n",
       "    <tr>\n",
       "      <th>2</th>\n",
       "      <td>LP001031</td>\n",
       "      <td>Male</td>\n",
       "      <td>Yes</td>\n",
       "      <td>2</td>\n",
       "      <td>Graduate</td>\n",
       "      <td>No</td>\n",
       "      <td>5000</td>\n",
       "      <td>1800</td>\n",
       "      <td>208.0</td>\n",
       "      <td>360.0</td>\n",
       "      <td>1.0</td>\n",
       "      <td>Urban</td>\n",
       "    </tr>\n",
       "    <tr>\n",
       "      <th>3</th>\n",
       "      <td>LP001035</td>\n",
       "      <td>Male</td>\n",
       "      <td>Yes</td>\n",
       "      <td>2</td>\n",
       "      <td>Graduate</td>\n",
       "      <td>No</td>\n",
       "      <td>2340</td>\n",
       "      <td>2546</td>\n",
       "      <td>100.0</td>\n",
       "      <td>360.0</td>\n",
       "      <td>NaN</td>\n",
       "      <td>Urban</td>\n",
       "    </tr>\n",
       "    <tr>\n",
       "      <th>4</th>\n",
       "      <td>LP001051</td>\n",
       "      <td>Male</td>\n",
       "      <td>No</td>\n",
       "      <td>0</td>\n",
       "      <td>Not Graduate</td>\n",
       "      <td>No</td>\n",
       "      <td>3276</td>\n",
       "      <td>0</td>\n",
       "      <td>78.0</td>\n",
       "      <td>360.0</td>\n",
       "      <td>1.0</td>\n",
       "      <td>Urban</td>\n",
       "    </tr>\n",
       "  </tbody>\n",
       "</table>\n",
       "</div>"
      ],
      "text/plain": [
       "    Loan_ID Gender Married Dependents     Education Self_Employed  \\\n",
       "0  LP001015   Male     Yes          0      Graduate            No   \n",
       "1  LP001022   Male     Yes          1      Graduate            No   \n",
       "2  LP001031   Male     Yes          2      Graduate            No   \n",
       "3  LP001035   Male     Yes          2      Graduate            No   \n",
       "4  LP001051   Male      No          0  Not Graduate            No   \n",
       "\n",
       "   ApplicantIncome  CoapplicantIncome  LoanAmount  Loan_Amount_Term  \\\n",
       "0             5720                  0       110.0             360.0   \n",
       "1             3076               1500       126.0             360.0   \n",
       "2             5000               1800       208.0             360.0   \n",
       "3             2340               2546       100.0             360.0   \n",
       "4             3276                  0        78.0             360.0   \n",
       "\n",
       "   Credit_History Property_Area  \n",
       "0             1.0         Urban  \n",
       "1             1.0         Urban  \n",
       "2             1.0         Urban  \n",
       "3             NaN         Urban  \n",
       "4             1.0         Urban  "
      ]
     },
     "execution_count": 55,
     "metadata": {},
     "output_type": "execute_result"
    }
   ],
   "source": [
    "tsd.head()"
   ]
  },
  {
   "cell_type": "code",
   "execution_count": 56,
   "id": "d399c6c6",
   "metadata": {},
   "outputs": [],
   "source": [
    "#Handling Missing values"
   ]
  },
  {
   "cell_type": "code",
   "execution_count": 57,
   "id": "d1d311ef",
   "metadata": {},
   "outputs": [
    {
     "data": {
      "text/plain": [
       "Loan_ID               0\n",
       "Gender               15\n",
       "Married               3\n",
       "Dependents           15\n",
       "Education             1\n",
       "Self_Employed        32\n",
       "ApplicantIncome       2\n",
       "CoapplicantIncome     1\n",
       "LoanAmount           22\n",
       "Loan_Amount_Term     14\n",
       "Credit_History       50\n",
       "Property_Area         0\n",
       "Loan_Status           0\n",
       "dtype: int64"
      ]
     },
     "execution_count": 57,
     "metadata": {},
     "output_type": "execute_result"
    }
   ],
   "source": [
    "trd.isna().sum()"
   ]
  },
  {
   "cell_type": "code",
   "execution_count": 58,
   "id": "afed4201",
   "metadata": {},
   "outputs": [
    {
     "data": {
      "text/plain": [
       "Loan_ID               0\n",
       "Gender               11\n",
       "Married               0\n",
       "Dependents           10\n",
       "Education             0\n",
       "Self_Employed        23\n",
       "ApplicantIncome       0\n",
       "CoapplicantIncome     0\n",
       "LoanAmount            5\n",
       "Loan_Amount_Term      6\n",
       "Credit_History       29\n",
       "Property_Area         0\n",
       "dtype: int64"
      ]
     },
     "execution_count": 58,
     "metadata": {},
     "output_type": "execute_result"
    }
   ],
   "source": [
    "tsd.isna().sum()"
   ]
  },
  {
   "cell_type": "code",
   "execution_count": 59,
   "id": "d67472ec",
   "metadata": {},
   "outputs": [],
   "source": [
    "def replacer(A):\n",
    "    import pandas as pd\n",
    "    Q = pd.DataFrame(A.isna().sum(),columns=[\"CT\"])\n",
    "    missingcolumns = list(Q[Q.CT > 0].index)\n",
    "    for i in missingcolumns:\n",
    "        if(A[i].dtypes==\"object\"):\n",
    "            replacer = A[i].mode()[0]\n",
    "            A[i] = A[i].fillna(replacer)\n",
    "        else:\n",
    "            replacer = A[i].mean()\n",
    "            A[i] = A[i].fillna(replacer)"
   ]
  },
  {
   "cell_type": "code",
   "execution_count": 60,
   "id": "52bfcafa",
   "metadata": {},
   "outputs": [],
   "source": [
    "replacer(trd)"
   ]
  },
  {
   "cell_type": "code",
   "execution_count": 61,
   "id": "5532dc72",
   "metadata": {},
   "outputs": [],
   "source": [
    "replacer(tsd)"
   ]
  },
  {
   "cell_type": "code",
   "execution_count": 62,
   "id": "86df08c3",
   "metadata": {},
   "outputs": [
    {
     "data": {
      "text/plain": [
       "Loan_ID              0\n",
       "Gender               0\n",
       "Married              0\n",
       "Dependents           0\n",
       "Education            0\n",
       "Self_Employed        0\n",
       "ApplicantIncome      0\n",
       "CoapplicantIncome    0\n",
       "LoanAmount           0\n",
       "Loan_Amount_Term     0\n",
       "Credit_History       0\n",
       "Property_Area        0\n",
       "Loan_Status          0\n",
       "dtype: int64"
      ]
     },
     "execution_count": 62,
     "metadata": {},
     "output_type": "execute_result"
    }
   ],
   "source": [
    "trd.isna().sum()"
   ]
  },
  {
   "cell_type": "code",
   "execution_count": 63,
   "id": "422abe47",
   "metadata": {},
   "outputs": [
    {
     "data": {
      "text/plain": [
       "Loan_ID              0\n",
       "Gender               0\n",
       "Married              0\n",
       "Dependents           0\n",
       "Education            0\n",
       "Self_Employed        0\n",
       "ApplicantIncome      0\n",
       "CoapplicantIncome    0\n",
       "LoanAmount           0\n",
       "Loan_Amount_Term     0\n",
       "Credit_History       0\n",
       "Property_Area        0\n",
       "dtype: int64"
      ]
     },
     "execution_count": 63,
     "metadata": {},
     "output_type": "execute_result"
    }
   ],
   "source": [
    "tsd.isna().sum()"
   ]
  },
  {
   "cell_type": "code",
   "execution_count": 64,
   "id": "bdd90576",
   "metadata": {},
   "outputs": [],
   "source": [
    "#Data Profile"
   ]
  },
  {
   "cell_type": "code",
   "execution_count": 65,
   "id": "1b4c8b89",
   "metadata": {},
   "outputs": [
    {
     "data": {
      "text/html": [
       "<div>\n",
       "<style scoped>\n",
       "    .dataframe tbody tr th:only-of-type {\n",
       "        vertical-align: middle;\n",
       "    }\n",
       "\n",
       "    .dataframe tbody tr th {\n",
       "        vertical-align: top;\n",
       "    }\n",
       "\n",
       "    .dataframe thead th {\n",
       "        text-align: right;\n",
       "    }\n",
       "</style>\n",
       "<table border=\"1\" class=\"dataframe\">\n",
       "  <thead>\n",
       "    <tr style=\"text-align: right;\">\n",
       "      <th></th>\n",
       "      <th>Loan_ID</th>\n",
       "      <th>Gender</th>\n",
       "      <th>Married</th>\n",
       "      <th>Dependents</th>\n",
       "      <th>Education</th>\n",
       "      <th>Self_Employed</th>\n",
       "      <th>ApplicantIncome</th>\n",
       "      <th>CoapplicantIncome</th>\n",
       "      <th>LoanAmount</th>\n",
       "      <th>Loan_Amount_Term</th>\n",
       "      <th>Credit_History</th>\n",
       "      <th>Property_Area</th>\n",
       "      <th>Loan_Status</th>\n",
       "    </tr>\n",
       "  </thead>\n",
       "  <tbody>\n",
       "    <tr>\n",
       "      <th>0</th>\n",
       "      <td>LP001002</td>\n",
       "      <td>Male</td>\n",
       "      <td>No</td>\n",
       "      <td>0</td>\n",
       "      <td>Graduate</td>\n",
       "      <td>No</td>\n",
       "      <td>5849.00000</td>\n",
       "      <td>0.0</td>\n",
       "      <td>146.412162</td>\n",
       "      <td>360.0</td>\n",
       "      <td>1.0</td>\n",
       "      <td>Urban</td>\n",
       "      <td>Y</td>\n",
       "    </tr>\n",
       "    <tr>\n",
       "      <th>1</th>\n",
       "      <td>LP001003</td>\n",
       "      <td>Male</td>\n",
       "      <td>Yes</td>\n",
       "      <td>1</td>\n",
       "      <td>Graduate</td>\n",
       "      <td>No</td>\n",
       "      <td>5405.54085</td>\n",
       "      <td>1508.0</td>\n",
       "      <td>128.000000</td>\n",
       "      <td>360.0</td>\n",
       "      <td>1.0</td>\n",
       "      <td>Rural</td>\n",
       "      <td>N</td>\n",
       "    </tr>\n",
       "    <tr>\n",
       "      <th>2</th>\n",
       "      <td>LP001005</td>\n",
       "      <td>Male</td>\n",
       "      <td>Yes</td>\n",
       "      <td>0</td>\n",
       "      <td>Graduate</td>\n",
       "      <td>Yes</td>\n",
       "      <td>3000.00000</td>\n",
       "      <td>0.0</td>\n",
       "      <td>66.000000</td>\n",
       "      <td>360.0</td>\n",
       "      <td>1.0</td>\n",
       "      <td>Urban</td>\n",
       "      <td>Y</td>\n",
       "    </tr>\n",
       "    <tr>\n",
       "      <th>3</th>\n",
       "      <td>LP001006</td>\n",
       "      <td>Male</td>\n",
       "      <td>Yes</td>\n",
       "      <td>0</td>\n",
       "      <td>Not Graduate</td>\n",
       "      <td>No</td>\n",
       "      <td>2583.00000</td>\n",
       "      <td>2358.0</td>\n",
       "      <td>120.000000</td>\n",
       "      <td>360.0</td>\n",
       "      <td>1.0</td>\n",
       "      <td>Urban</td>\n",
       "      <td>Y</td>\n",
       "    </tr>\n",
       "    <tr>\n",
       "      <th>4</th>\n",
       "      <td>LP001008</td>\n",
       "      <td>Male</td>\n",
       "      <td>No</td>\n",
       "      <td>0</td>\n",
       "      <td>Graduate</td>\n",
       "      <td>No</td>\n",
       "      <td>6000.00000</td>\n",
       "      <td>0.0</td>\n",
       "      <td>141.000000</td>\n",
       "      <td>360.0</td>\n",
       "      <td>1.0</td>\n",
       "      <td>Urban</td>\n",
       "      <td>Y</td>\n",
       "    </tr>\n",
       "  </tbody>\n",
       "</table>\n",
       "</div>"
      ],
      "text/plain": [
       "    Loan_ID Gender Married Dependents     Education Self_Employed  \\\n",
       "0  LP001002   Male      No          0      Graduate            No   \n",
       "1  LP001003   Male     Yes          1      Graduate            No   \n",
       "2  LP001005   Male     Yes          0      Graduate           Yes   \n",
       "3  LP001006   Male     Yes          0  Not Graduate            No   \n",
       "4  LP001008   Male      No          0      Graduate            No   \n",
       "\n",
       "   ApplicantIncome  CoapplicantIncome  LoanAmount  Loan_Amount_Term  \\\n",
       "0       5849.00000                0.0  146.412162             360.0   \n",
       "1       5405.54085             1508.0  128.000000             360.0   \n",
       "2       3000.00000                0.0   66.000000             360.0   \n",
       "3       2583.00000             2358.0  120.000000             360.0   \n",
       "4       6000.00000                0.0  141.000000             360.0   \n",
       "\n",
       "   Credit_History Property_Area Loan_Status  \n",
       "0             1.0         Urban           Y  \n",
       "1             1.0         Rural           N  \n",
       "2             1.0         Urban           Y  \n",
       "3             1.0         Urban           Y  \n",
       "4             1.0         Urban           Y  "
      ]
     },
     "execution_count": 65,
     "metadata": {},
     "output_type": "execute_result"
    }
   ],
   "source": [
    "trd.head()"
   ]
  },
  {
   "cell_type": "code",
   "execution_count": 66,
   "id": "36a5dda7",
   "metadata": {},
   "outputs": [
    {
     "name": "stdout",
     "output_type": "stream",
     "text": [
      "<class 'pandas.core.frame.DataFrame'>\n",
      "RangeIndex: 614 entries, 0 to 613\n",
      "Data columns (total 13 columns):\n",
      " #   Column             Non-Null Count  Dtype  \n",
      "---  ------             --------------  -----  \n",
      " 0   Loan_ID            614 non-null    object \n",
      " 1   Gender             614 non-null    object \n",
      " 2   Married            614 non-null    object \n",
      " 3   Dependents         614 non-null    object \n",
      " 4   Education          614 non-null    object \n",
      " 5   Self_Employed      614 non-null    object \n",
      " 6   ApplicantIncome    614 non-null    float64\n",
      " 7   CoapplicantIncome  614 non-null    float64\n",
      " 8   LoanAmount         614 non-null    float64\n",
      " 9   Loan_Amount_Term   614 non-null    float64\n",
      " 10  Credit_History     614 non-null    float64\n",
      " 11  Property_Area      614 non-null    object \n",
      " 12  Loan_Status        614 non-null    object \n",
      "dtypes: float64(5), object(8)\n",
      "memory usage: 62.5+ KB\n"
     ]
    }
   ],
   "source": [
    "trd.info()"
   ]
  },
  {
   "cell_type": "code",
   "execution_count": 67,
   "id": "1f1dc45d",
   "metadata": {},
   "outputs": [],
   "source": [
    "#Drop unnecessary columns and declare X,Y"
   ]
  },
  {
   "cell_type": "code",
   "execution_count": 68,
   "id": "3937f136",
   "metadata": {},
   "outputs": [],
   "source": [
    "X = trd.drop(labels=[\"Loan_ID\",\"Loan_Status\"],axis=1)\n",
    "Y = trd[[\"Loan_Status\"]]"
   ]
  },
  {
   "cell_type": "code",
   "execution_count": 69,
   "id": "b4337027",
   "metadata": {},
   "outputs": [],
   "source": [
    "#Exploratory Data Analysis\n",
    "\n",
    "#cat vs con --> boxplot, ANOVA\n",
    "\n",
    "#cat vs cat --> countplot with hue | crosstab"
   ]
  },
  {
   "cell_type": "code",
   "execution_count": 70,
   "id": "3d3c5e36",
   "metadata": {},
   "outputs": [],
   "source": [
    "def ANOVA(df,cat,con):\n",
    "    from pandas import DataFrame\n",
    "    from statsmodels.api import OLS\n",
    "    from statsmodels.formula.api import ols\n",
    "    rel = con + \" ~ \" + cat\n",
    "    model = ols(rel,df).fit()\n",
    "    from statsmodels.stats.anova import anova_lm\n",
    "    anova_results = anova_lm(model)\n",
    "    Q = DataFrame(anova_results)\n",
    "    a = Q['PR(>F)'][cat]\n",
    "    return round(a,3)"
   ]
  },
  {
   "cell_type": "code",
   "execution_count": 71,
   "id": "32f95bff",
   "metadata": {},
   "outputs": [],
   "source": [
    "cat=[]\n",
    "con=[]\n",
    "for i in X.columns:\n",
    "    if(X[i].dtypes==\"object\"):\n",
    "        cat.append(i)\n",
    "    else:\n",
    "        con.append(i)"
   ]
  },
  {
   "cell_type": "code",
   "execution_count": 72,
   "id": "492ca88d",
   "metadata": {},
   "outputs": [],
   "source": [
    "con.remove(\"Credit_History\")\n",
    "cat.append(\"Credit_History\")"
   ]
  },
  {
   "cell_type": "code",
   "execution_count": 73,
   "id": "2d90783d",
   "metadata": {},
   "outputs": [],
   "source": [
    "anova_res = []\n",
    "for i in con:\n",
    "    anova_res.append(ANOVA(trd,\"Loan_Status\",i))"
   ]
  },
  {
   "cell_type": "code",
   "execution_count": 74,
   "id": "654b3d4c",
   "metadata": {},
   "outputs": [
    {
     "data": {
      "text/plain": [
       "[('ApplicantIncome', 0.903),\n",
       " ('CoapplicantIncome', 0.142),\n",
       " ('LoanAmount', 0.368),\n",
       " ('Loan_Amount_Term', 0.604)]"
      ]
     },
     "execution_count": 74,
     "metadata": {},
     "output_type": "execute_result"
    }
   ],
   "source": [
    "list(zip(con,anova_res))"
   ]
  },
  {
   "cell_type": "code",
   "execution_count": 75,
   "id": "3f2e6caa",
   "metadata": {},
   "outputs": [],
   "source": [
    "# DataPreprocessing"
   ]
  },
  {
   "cell_type": "code",
   "execution_count": 76,
   "id": "9ba9661c",
   "metadata": {},
   "outputs": [],
   "source": [
    "from sklearn.preprocessing import StandardScaler\n",
    "ss = StandardScaler()\n",
    "XS1 = pd.DataFrame(ss.fit_transform(X[con]),columns=con)\n",
    "XS2 = pd.get_dummies(X[cat])\n",
    "X = XS1.join(XS2)"
   ]
  },
  {
   "cell_type": "code",
   "execution_count": 77,
   "id": "61dd3f9a",
   "metadata": {},
   "outputs": [
    {
     "data": {
      "text/html": [
       "<div>\n",
       "<style scoped>\n",
       "    .dataframe tbody tr th:only-of-type {\n",
       "        vertical-align: middle;\n",
       "    }\n",
       "\n",
       "    .dataframe tbody tr th {\n",
       "        vertical-align: top;\n",
       "    }\n",
       "\n",
       "    .dataframe thead th {\n",
       "        text-align: right;\n",
       "    }\n",
       "</style>\n",
       "<table border=\"1\" class=\"dataframe\">\n",
       "  <thead>\n",
       "    <tr style=\"text-align: right;\">\n",
       "      <th></th>\n",
       "      <th>ApplicantIncome</th>\n",
       "      <th>CoapplicantIncome</th>\n",
       "      <th>LoanAmount</th>\n",
       "      <th>Loan_Amount_Term</th>\n",
       "      <th>Credit_History</th>\n",
       "      <th>Gender_Female</th>\n",
       "      <th>Gender_Male</th>\n",
       "      <th>Married_No</th>\n",
       "      <th>Married_Yes</th>\n",
       "      <th>Dependents_0</th>\n",
       "      <th>Dependents_1</th>\n",
       "      <th>Dependents_2</th>\n",
       "      <th>Dependents_3+</th>\n",
       "      <th>Education_Graduate</th>\n",
       "      <th>Education_Not Graduate</th>\n",
       "      <th>Self_Employed_No</th>\n",
       "      <th>Self_Employed_Yes</th>\n",
       "      <th>Property_Area_Rural</th>\n",
       "      <th>Property_Area_Semiurban</th>\n",
       "      <th>Property_Area_Urban</th>\n",
       "    </tr>\n",
       "  </thead>\n",
       "  <tbody>\n",
       "    <tr>\n",
       "      <th>0</th>\n",
       "      <td>0.072651</td>\n",
       "      <td>-0.554368</td>\n",
       "      <td>0.000000</td>\n",
       "      <td>0.279851</td>\n",
       "      <td>1.0</td>\n",
       "      <td>0</td>\n",
       "      <td>1</td>\n",
       "      <td>1</td>\n",
       "      <td>0</td>\n",
       "      <td>1</td>\n",
       "      <td>0</td>\n",
       "      <td>0</td>\n",
       "      <td>0</td>\n",
       "      <td>1</td>\n",
       "      <td>0</td>\n",
       "      <td>1</td>\n",
       "      <td>0</td>\n",
       "      <td>0</td>\n",
       "      <td>0</td>\n",
       "      <td>1</td>\n",
       "    </tr>\n",
       "    <tr>\n",
       "      <th>1</th>\n",
       "      <td>0.000000</td>\n",
       "      <td>-0.038610</td>\n",
       "      <td>-0.219273</td>\n",
       "      <td>0.279851</td>\n",
       "      <td>1.0</td>\n",
       "      <td>0</td>\n",
       "      <td>1</td>\n",
       "      <td>0</td>\n",
       "      <td>1</td>\n",
       "      <td>0</td>\n",
       "      <td>1</td>\n",
       "      <td>0</td>\n",
       "      <td>0</td>\n",
       "      <td>1</td>\n",
       "      <td>0</td>\n",
       "      <td>1</td>\n",
       "      <td>0</td>\n",
       "      <td>1</td>\n",
       "      <td>0</td>\n",
       "      <td>0</td>\n",
       "    </tr>\n",
       "    <tr>\n",
       "      <th>2</th>\n",
       "      <td>-0.394096</td>\n",
       "      <td>-0.554368</td>\n",
       "      <td>-0.957641</td>\n",
       "      <td>0.279851</td>\n",
       "      <td>1.0</td>\n",
       "      <td>0</td>\n",
       "      <td>1</td>\n",
       "      <td>0</td>\n",
       "      <td>1</td>\n",
       "      <td>1</td>\n",
       "      <td>0</td>\n",
       "      <td>0</td>\n",
       "      <td>0</td>\n",
       "      <td>1</td>\n",
       "      <td>0</td>\n",
       "      <td>0</td>\n",
       "      <td>1</td>\n",
       "      <td>0</td>\n",
       "      <td>0</td>\n",
       "      <td>1</td>\n",
       "    </tr>\n",
       "  </tbody>\n",
       "</table>\n",
       "</div>"
      ],
      "text/plain": [
       "   ApplicantIncome  CoapplicantIncome  LoanAmount  Loan_Amount_Term  \\\n",
       "0         0.072651          -0.554368    0.000000          0.279851   \n",
       "1         0.000000          -0.038610   -0.219273          0.279851   \n",
       "2        -0.394096          -0.554368   -0.957641          0.279851   \n",
       "\n",
       "   Credit_History  Gender_Female  Gender_Male  Married_No  Married_Yes  \\\n",
       "0             1.0              0            1           1            0   \n",
       "1             1.0              0            1           0            1   \n",
       "2             1.0              0            1           0            1   \n",
       "\n",
       "   Dependents_0  Dependents_1  Dependents_2  Dependents_3+  \\\n",
       "0             1             0             0              0   \n",
       "1             0             1             0              0   \n",
       "2             1             0             0              0   \n",
       "\n",
       "   Education_Graduate  Education_Not Graduate  Self_Employed_No  \\\n",
       "0                   1                       0                 1   \n",
       "1                   1                       0                 1   \n",
       "2                   1                       0                 0   \n",
       "\n",
       "   Self_Employed_Yes  Property_Area_Rural  Property_Area_Semiurban  \\\n",
       "0                  0                    0                        0   \n",
       "1                  0                    1                        0   \n",
       "2                  1                    0                        0   \n",
       "\n",
       "   Property_Area_Urban  \n",
       "0                    1  \n",
       "1                    0  \n",
       "2                    1  "
      ]
     },
     "execution_count": 77,
     "metadata": {},
     "output_type": "execute_result"
    }
   ],
   "source": [
    "X.head(3)"
   ]
  },
  {
   "cell_type": "code",
   "execution_count": 78,
   "id": "1c71396f",
   "metadata": {},
   "outputs": [],
   "source": [
    "#split the data in training and testing data"
   ]
  },
  {
   "cell_type": "code",
   "execution_count": 79,
   "id": "3d933a39",
   "metadata": {},
   "outputs": [],
   "source": [
    "from sklearn.model_selection import train_test_split\n",
    "xtrain,xtest,ytrain,ytest=train_test_split(X,Y,test_size=0.2,random_state=34)"
   ]
  },
  {
   "cell_type": "code",
   "execution_count": 80,
   "id": "ca94f2da",
   "metadata": {},
   "outputs": [
    {
     "data": {
      "text/plain": [
       "<AxesSubplot:xlabel='Loan_Status', ylabel='count'>"
      ]
     },
     "execution_count": 80,
     "metadata": {},
     "output_type": "execute_result"
    },
    {
     "data": {
      "image/png": "[encoded data removed]",
      "text/plain": [
       "<Figure size 432x288 with 1 Axes>"
      ]
     },
     "metadata": {
      "needs_background": "light"
     },
     "output_type": "display_data"
    }
   ],
   "source": [
    "sb.countplot(Y.Loan_Status)"
   ]
  },
  {
   "cell_type": "code",
   "execution_count": 81,
   "id": "9c83b412",
   "metadata": {},
   "outputs": [
    {
     "data": {
      "text/plain": [
       "<AxesSubplot:xlabel='Loan_Status', ylabel='count'>"
      ]
     },
     "execution_count": 81,
     "metadata": {},
     "output_type": "execute_result"
    },
    {
     "data": {
      "image/png": "[encoded data removed]",
      "text/plain": [
       "<Figure size 432x288 with 1 Axes>"
      ]
     },
     "metadata": {
      "needs_background": "light"
     },
     "output_type": "display_data"
    }
   ],
   "source": [
    "sb.countplot(ytrain.Loan_Status)"
   ]
  },
  {
   "cell_type": "code",
   "execution_count": 82,
   "id": "6a88854a",
   "metadata": {},
   "outputs": [],
   "source": [
    "#Try the data on different type classification model"
   ]
  },
  {
   "cell_type": "code",
   "execution_count": 83,
   "id": "79d129ea",
   "metadata": {},
   "outputs": [],
   "source": [
    "from sklearn.linear_model import LogisticRegression\n",
    "from sklearn.tree import DecisionTreeClassifier\n",
    "from sklearn.ensemble import RandomForestClassifier,AdaBoostClassifier\n",
    "lr = LogisticRegression()\n",
    "dt = DecisionTreeClassifier(random_state=22)\n",
    "rf = RandomForestClassifier(random_state=22)\n",
    "ab = AdaBoostClassifier(DecisionTreeClassifier(random_state=22))"
   ]
  },
  {
   "cell_type": "code",
   "execution_count": 84,
   "id": "63743670",
   "metadata": {},
   "outputs": [],
   "source": [
    "def makemodel(mo):\n",
    "    model = mo.fit(xtrain,ytrain)\n",
    "    pred_ts = model.predict(xtest)\n",
    "    pred_tr = model.predict(xtrain)\n",
    "    from sklearn.metrics import accuracy_score\n",
    "    ts_acc = round(accuracy_score(ytest,pred_ts),3)\n",
    "    tr_acc = round(accuracy_score(ytrain,pred_tr),3)\n",
    "    print(\"training accuracy: \",tr_acc,\"\\ntesting_accuracy: \",ts_acc)\n",
    "    if(tr_acc>ts_acc):\n",
    "        print(\"Model overfits\")\n",
    "    else:\n",
    "        print(\"No overfitting\")"
   ]
  },
  {
   "cell_type": "code",
   "execution_count": 85,
   "id": "5ab8e158",
   "metadata": {},
   "outputs": [
    {
     "name": "stdout",
     "output_type": "stream",
     "text": [
      "training accuracy:  0.821 \n",
      "testing_accuracy:  0.789\n",
      "Model overfits\n"
     ]
    }
   ],
   "source": [
    "makemodel(lr)"
   ]
  },
  {
   "cell_type": "code",
   "execution_count": 86,
   "id": "6c7d7b79",
   "metadata": {},
   "outputs": [
    {
     "name": "stdout",
     "output_type": "stream",
     "text": [
      "training accuracy:  1.0 \n",
      "testing_accuracy:  0.724\n",
      "Model overfits\n"
     ]
    }
   ],
   "source": [
    "makemodel(dt)"
   ]
  },
  {
   "cell_type": "code",
   "execution_count": 87,
   "id": "5387078a",
   "metadata": {},
   "outputs": [
    {
     "name": "stdout",
     "output_type": "stream",
     "text": [
      "training accuracy:  1.0 \n",
      "testing_accuracy:  0.74\n",
      "Model overfits\n"
     ]
    }
   ],
   "source": [
    "makemodel(rf)"
   ]
  },
  {
   "cell_type": "code",
   "execution_count": 88,
   "id": "d33aaa28",
   "metadata": {},
   "outputs": [
    {
     "name": "stdout",
     "output_type": "stream",
     "text": [
      "training accuracy:  1.0 \n",
      "testing_accuracy:  0.74\n",
      "Model overfits\n"
     ]
    }
   ],
   "source": [
    "makemodel(ab)"
   ]
  },
  {
   "cell_type": "code",
   "execution_count": 89,
   "id": "2954cc03",
   "metadata": {},
   "outputs": [
    {
     "name": "stdout",
     "output_type": "stream",
     "text": [
      "---------------------------\n",
      "Results for max depth: 2\n",
      "training accuracy:  0.823 \n",
      "testing_accuracy:  0.789\n",
      "Model overfits\n",
      "---------------------------\n",
      "Results for max depth: 3\n",
      "training accuracy:  0.823 \n",
      "testing_accuracy:  0.789\n",
      "Model overfits\n",
      "---------------------------\n",
      "Results for max depth: 4\n",
      "training accuracy:  0.831 \n",
      "testing_accuracy:  0.78\n",
      "Model overfits\n",
      "---------------------------\n",
      "Results for max depth: 5\n",
      "training accuracy:  0.847 \n",
      "testing_accuracy:  0.772\n",
      "Model overfits\n",
      "---------------------------\n",
      "Results for max depth: 6\n",
      "training accuracy:  0.862 \n",
      "testing_accuracy:  0.764\n",
      "Model overfits\n",
      "---------------------------\n",
      "Results for max depth: 7\n",
      "training accuracy:  0.876 \n",
      "testing_accuracy:  0.78\n",
      "Model overfits\n",
      "---------------------------\n",
      "Results for max depth: 8\n",
      "training accuracy:  0.904 \n",
      "testing_accuracy:  0.756\n",
      "Model overfits\n",
      "---------------------------\n",
      "Results for max depth: 9\n",
      "training accuracy:  0.919 \n",
      "testing_accuracy:  0.732\n",
      "Model overfits\n",
      "---------------------------\n",
      "Results for max depth: 10\n",
      "training accuracy:  0.941 \n",
      "testing_accuracy:  0.724\n",
      "Model overfits\n",
      "---------------------------\n",
      "Results for max depth: 11\n",
      "training accuracy:  0.961 \n",
      "testing_accuracy:  0.715\n",
      "Model overfits\n",
      "---------------------------\n",
      "Results for max depth: 12\n",
      "training accuracy:  0.967 \n",
      "testing_accuracy:  0.724\n",
      "Model overfits\n",
      "---------------------------\n",
      "Results for max depth: 13\n",
      "training accuracy:  0.978 \n",
      "testing_accuracy:  0.724\n",
      "Model overfits\n",
      "---------------------------\n",
      "Results for max depth: 14\n",
      "training accuracy:  0.988 \n",
      "testing_accuracy:  0.707\n",
      "Model overfits\n",
      "---------------------------\n",
      "Results for max depth: 15\n",
      "training accuracy:  0.988 \n",
      "testing_accuracy:  0.715\n",
      "Model overfits\n",
      "---------------------------\n",
      "Results for max depth: 16\n",
      "training accuracy:  0.994 \n",
      "testing_accuracy:  0.724\n",
      "Model overfits\n",
      "---------------------------\n",
      "Results for max depth: 17\n",
      "training accuracy:  0.998 \n",
      "testing_accuracy:  0.748\n",
      "Model overfits\n"
     ]
    }
   ],
   "source": [
    "for i in range(2,18,1):\n",
    "    dt = DecisionTreeClassifier(random_state=22,max_depth=i)\n",
    "    print(\"---------------------------\")\n",
    "    print(\"Results for max depth: %d\"%i)\n",
    "    makemodel(dt)"
   ]
  },
  {
   "cell_type": "code",
   "execution_count": 90,
   "id": "030cb3ed",
   "metadata": {},
   "outputs": [
    {
     "name": "stdout",
     "output_type": "stream",
     "text": [
      "---------------------------\n",
      "Results for RS: 2\n",
      "training accuracy:  0.823 \n",
      "testing_accuracy:  0.789\n",
      "Model overfits\n",
      "---------------------------\n",
      "Results for RS: 3\n",
      "training accuracy:  0.823 \n",
      "testing_accuracy:  0.789\n",
      "Model overfits\n",
      "---------------------------\n",
      "Results for RS: 4\n",
      "training accuracy:  0.823 \n",
      "testing_accuracy:  0.789\n",
      "Model overfits\n",
      "---------------------------\n",
      "Results for RS: 5\n",
      "training accuracy:  0.823 \n",
      "testing_accuracy:  0.789\n",
      "Model overfits\n",
      "---------------------------\n",
      "Results for RS: 6\n",
      "training accuracy:  0.823 \n",
      "testing_accuracy:  0.789\n",
      "Model overfits\n",
      "---------------------------\n",
      "Results for RS: 7\n",
      "training accuracy:  0.823 \n",
      "testing_accuracy:  0.789\n",
      "Model overfits\n",
      "---------------------------\n",
      "Results for RS: 8\n",
      "training accuracy:  0.823 \n",
      "testing_accuracy:  0.789\n",
      "Model overfits\n",
      "---------------------------\n",
      "Results for RS: 9\n",
      "training accuracy:  0.823 \n",
      "testing_accuracy:  0.789\n",
      "Model overfits\n",
      "---------------------------\n",
      "Results for RS: 10\n",
      "training accuracy:  0.823 \n",
      "testing_accuracy:  0.789\n",
      "Model overfits\n",
      "---------------------------\n",
      "Results for RS: 11\n",
      "training accuracy:  0.823 \n",
      "testing_accuracy:  0.789\n",
      "Model overfits\n",
      "---------------------------\n",
      "Results for RS: 12\n",
      "training accuracy:  0.823 \n",
      "testing_accuracy:  0.789\n",
      "Model overfits\n",
      "---------------------------\n",
      "Results for RS: 13\n",
      "training accuracy:  0.823 \n",
      "testing_accuracy:  0.789\n",
      "Model overfits\n",
      "---------------------------\n",
      "Results for RS: 14\n",
      "training accuracy:  0.823 \n",
      "testing_accuracy:  0.789\n",
      "Model overfits\n",
      "---------------------------\n",
      "Results for RS: 15\n",
      "training accuracy:  0.823 \n",
      "testing_accuracy:  0.789\n",
      "Model overfits\n",
      "---------------------------\n",
      "Results for RS: 16\n",
      "training accuracy:  0.823 \n",
      "testing_accuracy:  0.789\n",
      "Model overfits\n",
      "---------------------------\n",
      "Results for RS: 17\n",
      "training accuracy:  0.823 \n",
      "testing_accuracy:  0.789\n",
      "Model overfits\n"
     ]
    }
   ],
   "source": [
    "for i in range(2,18,1):\n",
    "    dt = DecisionTreeClassifier(random_state=i,max_depth=3)\n",
    "    print(\"---------------------------\")\n",
    "    print(\"Results for RS: %d\"%i)\n",
    "    makemodel(dt)"
   ]
  },
  {
   "cell_type": "code",
   "execution_count": 91,
   "id": "b0045d7e",
   "metadata": {},
   "outputs": [
    {
     "name": "stdout",
     "output_type": "stream",
     "text": [
      "---------------------------\n",
      "Results for MSL: 2\n",
      "training accuracy:  0.939 \n",
      "testing_accuracy:  0.715\n",
      "Model overfits\n",
      "---------------------------\n",
      "Results for MSL: 3\n",
      "training accuracy:  0.91 \n",
      "testing_accuracy:  0.675\n",
      "Model overfits\n",
      "---------------------------\n",
      "Results for MSL: 4\n",
      "training accuracy:  0.892 \n",
      "testing_accuracy:  0.65\n",
      "Model overfits\n",
      "---------------------------\n",
      "Results for MSL: 5\n",
      "training accuracy:  0.886 \n",
      "testing_accuracy:  0.715\n",
      "Model overfits\n",
      "---------------------------\n",
      "Results for MSL: 6\n",
      "training accuracy:  0.855 \n",
      "testing_accuracy:  0.675\n",
      "Model overfits\n",
      "---------------------------\n",
      "Results for MSL: 7\n",
      "training accuracy:  0.845 \n",
      "testing_accuracy:  0.748\n",
      "Model overfits\n",
      "---------------------------\n",
      "Results for MSL: 8\n",
      "training accuracy:  0.845 \n",
      "testing_accuracy:  0.756\n",
      "Model overfits\n",
      "---------------------------\n",
      "Results for MSL: 9\n",
      "training accuracy:  0.841 \n",
      "testing_accuracy:  0.764\n",
      "Model overfits\n",
      "---------------------------\n",
      "Results for MSL: 10\n",
      "training accuracy:  0.829 \n",
      "testing_accuracy:  0.772\n",
      "Model overfits\n",
      "---------------------------\n",
      "Results for MSL: 11\n",
      "training accuracy:  0.829 \n",
      "testing_accuracy:  0.772\n",
      "Model overfits\n",
      "---------------------------\n",
      "Results for MSL: 12\n",
      "training accuracy:  0.827 \n",
      "testing_accuracy:  0.772\n",
      "Model overfits\n",
      "---------------------------\n",
      "Results for MSL: 13\n",
      "training accuracy:  0.823 \n",
      "testing_accuracy:  0.756\n",
      "Model overfits\n",
      "---------------------------\n",
      "Results for MSL: 14\n",
      "training accuracy:  0.821 \n",
      "testing_accuracy:  0.78\n",
      "Model overfits\n",
      "---------------------------\n",
      "Results for MSL: 15\n",
      "training accuracy:  0.821 \n",
      "testing_accuracy:  0.78\n",
      "Model overfits\n",
      "---------------------------\n",
      "Results for MSL: 16\n",
      "training accuracy:  0.819 \n",
      "testing_accuracy:  0.756\n",
      "Model overfits\n",
      "---------------------------\n",
      "Results for MSL: 17\n",
      "training accuracy:  0.819 \n",
      "testing_accuracy:  0.756\n",
      "Model overfits\n"
     ]
    }
   ],
   "source": [
    "for i in range(2,18,1):\n",
    "    dt = DecisionTreeClassifier(random_state=22,min_samples_leaf=i)\n",
    "    print(\"---------------------------\")\n",
    "    print(\"Results for MSL: %d\"%i)\n",
    "    makemodel(dt)"
   ]
  },
  {
   "cell_type": "code",
   "execution_count": 92,
   "id": "1863f656",
   "metadata": {},
   "outputs": [
    {
     "name": "stdout",
     "output_type": "stream",
     "text": [
      "---------------------------\n",
      "Results for MSL: 2\n",
      "training accuracy:  1.0 \n",
      "testing_accuracy:  0.724\n",
      "Model overfits\n",
      "---------------------------\n",
      "Results for MSL: 3\n",
      "training accuracy:  0.99 \n",
      "testing_accuracy:  0.74\n",
      "Model overfits\n",
      "---------------------------\n",
      "Results for MSL: 4\n",
      "training accuracy:  0.976 \n",
      "testing_accuracy:  0.715\n",
      "Model overfits\n",
      "---------------------------\n",
      "Results for MSL: 5\n",
      "training accuracy:  0.965 \n",
      "testing_accuracy:  0.724\n",
      "Model overfits\n",
      "---------------------------\n",
      "Results for MSL: 6\n",
      "training accuracy:  0.953 \n",
      "testing_accuracy:  0.699\n",
      "Model overfits\n",
      "---------------------------\n",
      "Results for MSL: 7\n",
      "training accuracy:  0.945 \n",
      "testing_accuracy:  0.732\n",
      "Model overfits\n",
      "---------------------------\n",
      "Results for MSL: 8\n",
      "training accuracy:  0.933 \n",
      "testing_accuracy:  0.732\n",
      "Model overfits\n",
      "---------------------------\n",
      "Results for MSL: 9\n",
      "training accuracy:  0.921 \n",
      "testing_accuracy:  0.732\n",
      "Model overfits\n",
      "---------------------------\n",
      "Results for MSL: 10\n",
      "training accuracy:  0.916 \n",
      "testing_accuracy:  0.74\n",
      "Model overfits\n",
      "---------------------------\n",
      "Results for MSL: 11\n",
      "training accuracy:  0.904 \n",
      "testing_accuracy:  0.756\n",
      "Model overfits\n",
      "---------------------------\n",
      "Results for MSL: 12\n",
      "training accuracy:  0.898 \n",
      "testing_accuracy:  0.764\n",
      "Model overfits\n",
      "---------------------------\n",
      "Results for MSL: 13\n",
      "training accuracy:  0.898 \n",
      "testing_accuracy:  0.764\n",
      "Model overfits\n",
      "---------------------------\n",
      "Results for MSL: 14\n",
      "training accuracy:  0.896 \n",
      "testing_accuracy:  0.764\n",
      "Model overfits\n",
      "---------------------------\n",
      "Results for MSL: 15\n",
      "training accuracy:  0.896 \n",
      "testing_accuracy:  0.764\n",
      "Model overfits\n",
      "---------------------------\n",
      "Results for MSL: 16\n",
      "training accuracy:  0.894 \n",
      "testing_accuracy:  0.748\n",
      "Model overfits\n",
      "---------------------------\n",
      "Results for MSL: 17\n",
      "training accuracy:  0.892 \n",
      "testing_accuracy:  0.748\n",
      "Model overfits\n"
     ]
    }
   ],
   "source": [
    "for i in range(2,18,1):\n",
    "    dt = DecisionTreeClassifier(random_state=22,min_samples_split=i)\n",
    "    print(\"---------------------------\")\n",
    "    print(\"Results for MSL: %d\"%i)\n",
    "    makemodel(dt)"
   ]
  },
  {
   "cell_type": "code",
   "execution_count": 93,
   "id": "530b8fea",
   "metadata": {},
   "outputs": [
    {
     "name": "stdout",
     "output_type": "stream",
     "text": [
      "training accuracy:  1.0 \n",
      "testing_accuracy:  0.74\n",
      "Model overfits\n"
     ]
    }
   ],
   "source": [
    "rf = RandomForestClassifier(random_state=22)\n",
    "makemodel(rf)"
   ]
  },
  {
   "cell_type": "code",
   "execution_count": 94,
   "id": "c4d91f89",
   "metadata": {},
   "outputs": [
    {
     "name": "stdout",
     "output_type": "stream",
     "text": [
      "training accuracy:  0.76 \n",
      "testing_accuracy:  0.715\n",
      "Model overfits\n"
     ]
    }
   ],
   "source": [
    "rf = RandomForestClassifier(n_estimators=10,random_state=22,max_depth=2)\n",
    "makemodel(rf)"
   ]
  },
  {
   "cell_type": "code",
   "execution_count": 95,
   "id": "0b51485a",
   "metadata": {},
   "outputs": [
    {
     "name": "stdout",
     "output_type": "stream",
     "text": [
      "training accuracy:  1.0 \n",
      "testing_accuracy:  0.732\n",
      "Model overfits\n"
     ]
    }
   ],
   "source": [
    "ab = AdaBoostClassifier(DecisionTreeClassifier(random_state=22))\n",
    "makemodel(ab)"
   ]
  },
  {
   "cell_type": "code",
   "execution_count": 96,
   "id": "91099bce",
   "metadata": {},
   "outputs": [
    {
     "name": "stdout",
     "output_type": "stream",
     "text": [
      "training accuracy:  1.0 \n",
      "testing_accuracy:  0.756\n",
      "Model overfits\n"
     ]
    }
   ],
   "source": [
    "ab = AdaBoostClassifier(DecisionTreeClassifier(random_state=22,max_depth=3))\n",
    "makemodel(ab)"
   ]
  },
  {
   "cell_type": "code",
   "execution_count": 97,
   "id": "8b9dc3ae",
   "metadata": {},
   "outputs": [
    {
     "name": "stdout",
     "output_type": "stream",
     "text": [
      "---------------------------\n",
      "Results for max depth: 2\n",
      "training accuracy:  0.951 \n",
      "testing_accuracy:  0.772\n",
      "Model overfits\n",
      "---------------------------\n",
      "Results for max depth: 3\n",
      "training accuracy:  1.0 \n",
      "testing_accuracy:  0.748\n",
      "Model overfits\n",
      "---------------------------\n",
      "Results for max depth: 4\n",
      "training accuracy:  1.0 \n",
      "testing_accuracy:  0.691\n",
      "Model overfits\n",
      "---------------------------\n",
      "Results for max depth: 5\n",
      "training accuracy:  1.0 \n",
      "testing_accuracy:  0.748\n",
      "Model overfits\n",
      "---------------------------\n",
      "Results for max depth: 6\n",
      "training accuracy:  1.0 \n",
      "testing_accuracy:  0.78\n",
      "Model overfits\n",
      "---------------------------\n",
      "Results for max depth: 7\n",
      "training accuracy:  1.0 \n",
      "testing_accuracy:  0.772\n",
      "Model overfits\n",
      "---------------------------\n",
      "Results for max depth: 8\n",
      "training accuracy:  1.0 \n",
      "testing_accuracy:  0.724\n",
      "Model overfits\n",
      "---------------------------\n",
      "Results for max depth: 9\n",
      "training accuracy:  1.0 \n",
      "testing_accuracy:  0.732\n",
      "Model overfits\n",
      "---------------------------\n",
      "Results for max depth: 10\n",
      "training accuracy:  1.0 \n",
      "testing_accuracy:  0.74\n",
      "Model overfits\n",
      "---------------------------\n",
      "Results for max depth: 11\n",
      "training accuracy:  1.0 \n",
      "testing_accuracy:  0.748\n",
      "Model overfits\n",
      "---------------------------\n",
      "Results for max depth: 12\n",
      "training accuracy:  1.0 \n",
      "testing_accuracy:  0.715\n",
      "Model overfits\n",
      "---------------------------\n",
      "Results for max depth: 13\n",
      "training accuracy:  1.0 \n",
      "testing_accuracy:  0.699\n",
      "Model overfits\n",
      "---------------------------\n",
      "Results for max depth: 14\n",
      "training accuracy:  1.0 \n",
      "testing_accuracy:  0.659\n",
      "Model overfits\n",
      "---------------------------\n",
      "Results for max depth: 15\n",
      "training accuracy:  1.0 \n",
      "testing_accuracy:  0.683\n",
      "Model overfits\n",
      "---------------------------\n",
      "Results for max depth: 16\n",
      "training accuracy:  1.0 \n",
      "testing_accuracy:  0.683\n",
      "Model overfits\n",
      "---------------------------\n",
      "Results for max depth: 17\n",
      "training accuracy:  1.0 \n",
      "testing_accuracy:  0.699\n",
      "Model overfits\n"
     ]
    }
   ],
   "source": [
    "for i in range(2,18,1):\n",
    "    ab = AdaBoostClassifier(DecisionTreeClassifier(random_state=22,max_depth=i))\n",
    "    print(\"---------------------------\")\n",
    "    print(\"Results for max depth: %d\"%i)\n",
    "    makemodel(ab)"
   ]
  },
  {
   "cell_type": "code",
   "execution_count": 98,
   "id": "24d6a1fc",
   "metadata": {},
   "outputs": [
    {
     "name": "stdout",
     "output_type": "stream",
     "text": [
      "---------------------------\n",
      "Results for Trees: 2\n",
      "training accuracy:  0.827 \n",
      "testing_accuracy:  0.789\n",
      "Model overfits\n",
      "---------------------------\n",
      "Results for Trees: 3\n",
      "training accuracy:  0.829 \n",
      "testing_accuracy:  0.789\n",
      "Model overfits\n",
      "---------------------------\n",
      "Results for Trees: 4\n",
      "training accuracy:  0.835 \n",
      "testing_accuracy:  0.772\n",
      "Model overfits\n",
      "---------------------------\n",
      "Results for Trees: 5\n",
      "training accuracy:  0.839 \n",
      "testing_accuracy:  0.78\n",
      "Model overfits\n",
      "---------------------------\n",
      "Results for Trees: 6\n",
      "training accuracy:  0.833 \n",
      "testing_accuracy:  0.772\n",
      "Model overfits\n",
      "---------------------------\n",
      "Results for Trees: 7\n",
      "training accuracy:  0.837 \n",
      "testing_accuracy:  0.772\n",
      "Model overfits\n",
      "---------------------------\n",
      "Results for Trees: 8\n",
      "training accuracy:  0.847 \n",
      "testing_accuracy:  0.764\n",
      "Model overfits\n",
      "---------------------------\n",
      "Results for Trees: 9\n",
      "training accuracy:  0.843 \n",
      "testing_accuracy:  0.756\n",
      "Model overfits\n",
      "---------------------------\n",
      "Results for Trees: 10\n",
      "training accuracy:  0.847 \n",
      "testing_accuracy:  0.756\n",
      "Model overfits\n",
      "---------------------------\n",
      "Results for Trees: 11\n",
      "training accuracy:  0.851 \n",
      "testing_accuracy:  0.764\n",
      "Model overfits\n",
      "---------------------------\n",
      "Results for Trees: 12\n",
      "training accuracy:  0.849 \n",
      "testing_accuracy:  0.764\n",
      "Model overfits\n",
      "---------------------------\n",
      "Results for Trees: 13\n",
      "training accuracy:  0.853 \n",
      "testing_accuracy:  0.764\n",
      "Model overfits\n",
      "---------------------------\n",
      "Results for Trees: 14\n",
      "training accuracy:  0.857 \n",
      "testing_accuracy:  0.756\n",
      "Model overfits\n",
      "---------------------------\n",
      "Results for Trees: 15\n",
      "training accuracy:  0.864 \n",
      "testing_accuracy:  0.748\n",
      "Model overfits\n",
      "---------------------------\n",
      "Results for Trees: 16\n",
      "training accuracy:  0.864 \n",
      "testing_accuracy:  0.756\n",
      "Model overfits\n",
      "---------------------------\n",
      "Results for Trees: 17\n",
      "training accuracy:  0.866 \n",
      "testing_accuracy:  0.764\n",
      "Model overfits\n"
     ]
    }
   ],
   "source": [
    "for i in range(2,18,1):\n",
    "    ab = AdaBoostClassifier(DecisionTreeClassifier(random_state=22,max_depth=2),n_estimators=i)\n",
    "    print(\"---------------------------\")\n",
    "    print(\"Results for Trees: %d\"%i)\n",
    "    makemodel(ab)"
   ]
  },
  {
   "cell_type": "code",
   "execution_count": null,
   "id": "2a365c73",
   "metadata": {},
   "outputs": [],
   "source": []
  }
 ],
 "metadata": {
  "kernelspec": {
   "display_name": "Python 3",
   "language": "python",
   "name": "python3"
  },
  "language_info": {
   "codemirror_mode": {
    "name": "ipython",
    "version": 3
   },
   "file_extension": ".py",
   "mimetype": "text/x-python",
   "name": "python",
   "nbconvert_exporter": "python",
   "pygments_lexer": "ipython3",
   "version": "3.8.8"
  }
 },
 "nbformat": 4,
 "nbformat_minor": 5
}
